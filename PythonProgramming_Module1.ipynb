{
  "nbformat": 4,
  "nbformat_minor": 0,
  "metadata": {
    "colab": {
      "name": "PythonProgramming_Module1.ipynb",
      "provenance": [],
      "collapsed_sections": [
        "oSnGZickHFsv",
        "rOu70RjyHh7M",
        "Uin_6g2bRdHv"
      ]
    },
    "kernelspec": {
      "name": "python3",
      "display_name": "Python 3"
    },
    "language_info": {
      "name": "python"
    }
  },
  "cells": [
    {
      "cell_type": "markdown",
      "metadata": {
        "id": "SJcGWSUKF55a"
      },
      "source": [
        "# **Need of Programming**\n",
        "\n",
        "We need programming to automate the machine. Machine will do the things very effectively, accuracy is more as comapare to human and also it save time and effort of human.  \n",
        "\n",
        "Example: Used for web application, mobile application, games etc."
      ]
    },
    {
      "cell_type": "markdown",
      "metadata": {
        "id": "qvdC7Hl4-Apn"
      },
      "source": [
        "# **Computer Languages**\n",
        "\n",
        "**Low Level Language**\n",
        "\n",
        "1.   Machine language\n",
        "2.   Assembly Language\n",
        "\n",
        "**High Level Language**\n",
        "\n",
        "1.   Object Oriented Programmimg Language\n",
        "2.   Visual Programming Language\n",
        "\n"
      ]
    },
    {
      "cell_type": "markdown",
      "metadata": {
        "id": "oSnGZickHFsv"
      },
      "source": [
        "# **Low Level language**\n",
        "\n",
        "A language that corresponds to a specific language"
      ]
    },
    {
      "cell_type": "markdown",
      "metadata": {
        "id": "fKhTKe-d_NL1"
      },
      "source": [
        "**1. Machine Language**\n",
        "\n",
        "Its low level programming language which basically used 0's and 1's for programming that's why we can say this language directly interpreted into the hardware\n",
        "\n",
        "**Advantages**\n",
        "\n",
        "*   Transaltion Free\n",
        "*   High Speed\n",
        "\n",
        "**Disadvantages**\n",
        "\n",
        "*   Hard to find error (program written in machine code)\n",
        "*   Time consuming\n",
        "\n",
        "\n"
      ]
    },
    {
      "cell_type": "markdown",
      "metadata": {
        "id": "ad629oA4AvDC"
      },
      "source": [
        "**2. Assembly Language**\n",
        "\n",
        "Its low level programming language. As compare to machine language it's slightly more user friendly language that directly corresponds to machine language.\n",
        "\n",
        "It used **Assembler** which is program to translate assembly language instruction into a machine language.\n",
        "\n",
        "**Advantages**\n",
        "\n",
        "*   Easy to understand\n",
        "*   Easy to used\n",
        "*   Easy to locate and correct error\n",
        "\n",
        "**Disadvantages**\n",
        "\n",
        "*   Machine dependent\n",
        "*   Hard to learn (^)\n",
        "*   Less efficient (more execution time and assembler needed)"
      ]
    },
    {
      "cell_type": "markdown",
      "metadata": {
        "id": "rOu70RjyHh7M"
      },
      "source": [
        "# **High Level Language**\n",
        "\n",
        "Any language that is independent of the machine"
      ]
    },
    {
      "cell_type": "markdown",
      "metadata": {
        "id": "ZIu_2AniDy-L"
      },
      "source": [
        "**1. Object Oriented Programming Language**\n",
        "\n",
        "Its high level programming language and machine independent. It contain english words and symbols. Specified rules are followed while writing the program\n",
        "\n",
        "\n",
        "It used **Compiler** which is program to translate source code to object code [machine code]. If any error found it display on screen.\n",
        "\n",
        "It used **Interpreter** which is program to translate source code to object code [machine code]. It translate program in line by line manner and it execute it immediately before translating the next statement. If any error found execution of program is halted and error get display on screen.\n",
        "\n",
        "\n",
        "**Advantages**\n",
        "\n",
        "*   Readability\n",
        "*   Machine independent\n",
        "*   Easy debugging\n",
        "\n",
        "**Disadvantages**\n",
        "\n",
        "* Less Efficient\n",
        "  *   Translation process\n",
        "  *   More memory\n",
        "  *   More execution time"
      ]
    },
    {
      "cell_type": "markdown",
      "metadata": {
        "id": "qFI0jF2cH51Y"
      },
      "source": [
        "**2. Visual Programming Language**\n",
        "\n",
        "Language that that are not text based. These programmimng language are designed for building windows based application"
      ]
    },
    {
      "cell_type": "markdown",
      "metadata": {
        "id": "PKvbyjgwIo34"
      },
      "source": [
        "# **Overview of Python**\n",
        "\n",
        "*   General Purpose Programming Language\n",
        "*   High Level Programming Language\n",
        "*   Interactive\n",
        "*   Interpreted\n",
        "*   Object Oriented Scripting Language\n",
        "\n",
        "Developed by **GUIDO VAN ROSSUM** in late 1980s and early 1990s\n",
        "\n",
        "\n",
        "*   Some other language information\n",
        "\n",
        " * **C** Developed by **Dennis Ritchie** in 1972\n",
        "\n",
        " * **C++** Developed by **Bjarne Stroustrup** in 1980\n",
        "\n",
        " * **Java** Developed by **Jame Gosling** in 1995\n",
        "\n",
        "Python derived from many other labguages including ABC, Modula-3, C, C++, Algol-68, SmallTalk and Unix Shell and other scripting languages\n",
        "\n"
      ]
    },
    {
      "cell_type": "markdown",
      "metadata": {
        "id": "2S5ackgsLYyZ"
      },
      "source": [
        "# **Python Features**\n",
        "\n",
        "*   Easy to learn\n",
        "*   Easy to read\n",
        "*   Easy to maintain\n",
        "*   Standard library which are easy to understand and portable\n",
        "*   Interactive mode - Interractive testibg and debugging of snippets of code\n",
        "*   Portable\n",
        "*   Extendable - We can add low level modules to the python interpreter. This  module enable programmer to add to or customize their tools to be more efficient.\n",
        "*   Database - Python provide interfaces to all major commercial database\n",
        "*   GUI Programming\n",
        "*   Scalable - Provide better structure and support for large programming than shell scripting\n",
        "\n",
        "**Google, Facebook, Instagram, Spotify, Ouora, Netflix, Dropbox, Reddit are some popular oraganizations which are using python**\n",
        "\n"
      ]
    },
    {
      "cell_type": "markdown",
      "metadata": {
        "id": "LXq-keM1ga4B"
      },
      "source": [
        "# **Python Application in Various Domain**\n",
        "\n",
        "*   Web and internet development\n",
        "*   Scientific and numeric\n",
        "*   Education\n",
        "*   Desktop GUIs\n",
        "*   Software Develpment\n",
        "*   Business application\n",
        "\n",
        "**OFFICIAL WEBSITE FOR MORE INFO:** https://www.python.org/\n",
        "\n"
      ]
    },
    {
      "cell_type": "markdown",
      "metadata": {
        "id": "mxxl22nv28sD"
      },
      "source": [
        "# **Comments in Python**\n",
        "\n",
        "Single line comment\n",
        "\n",
        "        #This is single line comment\n",
        "\n",
        "  Multiple line comment\n",
        "\n",
        "        '''\n",
        "              This is single line comment\n",
        "        '''\n"
      ]
    },
    {
      "cell_type": "markdown",
      "metadata": {
        "id": "4My1azca2l5W"
      },
      "source": [
        "# **Python print() Function**\n",
        "\n",
        "The print() function prints the specified message to the screen, or other standard output device.\n",
        "\n",
        "    print(object(s), sep=separator, end=end, file=file, flush=flush)"
      ]
    },
    {
      "cell_type": "code",
      "metadata": {
        "id": "87Av0Lq82qzw"
      },
      "source": [
        "print(\"Hello World\")"
      ],
      "execution_count": null,
      "outputs": []
    },
    {
      "cell_type": "markdown",
      "metadata": {
        "id": "6C83qg4P3WdE"
      },
      "source": [
        "![print_fun.PNG](data:image/png;base64,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)"
      ]
    },
    {
      "cell_type": "code",
      "metadata": {
        "id": "bNZLn95D3UYX"
      },
      "source": [
        "print(\"Hello\", \"how are you?\")"
      ],
      "execution_count": null,
      "outputs": []
    },
    {
      "cell_type": "code",
      "metadata": {
        "colab": {
          "base_uri": "https://localhost:8080/"
        },
        "id": "2sLX_OoV3e4x",
        "outputId": "e179c205-e71c-4ba6-9c52-7687457f3725"
      },
      "source": [
        "x = ('apple', 'banana', 'cherry')\n",
        "print(x)"
      ],
      "execution_count": null,
      "outputs": [
        {
          "output_type": "stream",
          "text": [
            "('apple', 'banana', 'cherry')\n"
          ],
          "name": "stdout"
        }
      ]
    },
    {
      "cell_type": "code",
      "metadata": {
        "colab": {
          "base_uri": "https://localhost:8080/"
        },
        "id": "s2CBiRxB3jf5",
        "outputId": "c5a3f501-10d8-4810-875e-384dda6b029f"
      },
      "source": [
        "print(\"Hello\", \"how are you?\", sep=\"---\")"
      ],
      "execution_count": null,
      "outputs": [
        {
          "output_type": "stream",
          "text": [
            "Hello---how are you?\n"
          ],
          "name": "stdout"
        }
      ]
    },
    {
      "cell_type": "code",
      "metadata": {
        "colab": {
          "base_uri": "https://localhost:8080/"
        },
        "id": "_AnBuXFd4Mqt",
        "outputId": "6fbf2d3d-5295-4d0a-ce56-fe28c92e617a"
      },
      "source": [
        "print(\"hello\", end='+')\n",
        "print(\"world\")"
      ],
      "execution_count": null,
      "outputs": [
        {
          "output_type": "stream",
          "text": [
            "hello+world\n"
          ],
          "name": "stdout"
        }
      ]
    },
    {
      "cell_type": "markdown",
      "metadata": {
        "id": "fOkRgqTTsYxe"
      },
      "source": [
        "# **Variable**\n",
        "\n",
        "Variable are containers for storing data values. In python we don't declared variable to create we have to assign value to it.\n",
        "\n",
        "Also after seting it we can change the type of variable. To get data type used type() function.\n",
        "\n"
      ]
    },
    {
      "cell_type": "code",
      "metadata": {
        "colab": {
          "base_uri": "https://localhost:8080/"
        },
        "id": "ysDmPCg4s39P",
        "outputId": "3b8d1949-0288-4ff8-cd1e-20bcc35e270d"
      },
      "source": [
        "# Python is case sensitive\n",
        "\n",
        "Name = \"shweta\"\n",
        "name = 'shweta' # we can used single or double cotes for string\n",
        "\n",
        "\n",
        "num = 10\n",
        "num2 = 10.5\n",
        "\n",
        "print(Name, name, num, num2)\n",
        "\n",
        "Name = \"Shweta Thikekar\"\n",
        "\n",
        "print(Name)\n",
        "\n",
        "x = str(3) # STRING\n",
        "y = int(3) # NUMBER\n",
        "z = float(3) # FLOAT 3.0\n",
        "\n",
        "print(x,y,z)\n",
        "\n",
        "# To get data type used type() function\n",
        "\n",
        "print(type(x), type(y), type(z))"
      ],
      "execution_count": null,
      "outputs": [
        {
          "output_type": "stream",
          "text": [
            "shweta shweta 10 10.5\n",
            "Shweta Thikekar\n",
            "3 3 3.0\n",
            "<class 'str'> <class 'int'> <class 'float'>\n"
          ],
          "name": "stdout"
        }
      ]
    },
    {
      "cell_type": "markdown",
      "metadata": {
        "id": "NQSZ7NAwtc2M"
      },
      "source": [
        "# **Some Rules**\n",
        "\n",
        "A variable can have a short name or a more descriptive name(age,total)\n",
        "\n",
        "*   Start with letter or underscore\n",
        "*   Can not start with number\n",
        "*   Only contain alpha-numeric and umderscore\n",
        "*   Names are case sensitive\n",
        "\n",
        "Some Techniques:\n",
        "\n",
        "*   Camel Case: myVariableName = \"shweta\"\n",
        "*   Pascal Case:  MyVariableName = \"shweta\"\n",
        "*   Snake Case:  My_Variable_Name = \"shweta\"\n",
        "\n",
        "Also we can assign mutiple values to different variable or one value to multiple variables.\n",
        "\n"
      ]
    },
    {
      "cell_type": "code",
      "metadata": {
        "colab": {
          "base_uri": "https://localhost:8080/"
        },
        "id": "pKL52Fa4zFcN",
        "outputId": "c5a2ec18-8508-4a78-a5e5-5939597d7aa7"
      },
      "source": [
        "x, y, z = 10, 20, 30\n",
        "\n",
        "print (x,y,z)\n",
        "\n",
        "x=y=z=10\n",
        "\n",
        "print (x,y,z)\n",
        "\n",
        "# Unpacking\n",
        "\n",
        "fruits = [\"Apple\" , \"Banana\" , \"Cherry\"]\n",
        "\n",
        "x, y, z = fruits\n",
        "\n",
        "print (x,y,z)\n",
        "\n",
        "# Concatenation\n",
        "\n",
        "a = 'Shweta'\n",
        "b = \"Thikekar\"\n",
        "c = 10\n",
        "d = 20\n",
        "\n",
        "print(a + \" \" + b)  # for space in between\n",
        "\n",
        "print(c+d)\n",
        "\n",
        "# print(a+d) # TypeError: can only concatenate str (not \"int\") to str"
      ],
      "execution_count": null,
      "outputs": [
        {
          "output_type": "stream",
          "text": [
            "10 20 30\n",
            "10 10 10\n",
            "Apple Banana Cherry\n",
            "Shweta Thikekar\n",
            "30\n"
          ],
          "name": "stdout"
        }
      ]
    },
    {
      "cell_type": "markdown",
      "metadata": {
        "id": "QZBT5jaF1btd"
      },
      "source": [
        "# **Global and Local Variabl**e"
      ]
    },
    {
      "cell_type": "code",
      "metadata": {
        "colab": {
          "base_uri": "https://localhost:8080/"
        },
        "id": "xzIUK6Ec1k4M",
        "outputId": "9b8813d0-a011-4df8-a257-5f6ec25b51ab"
      },
      "source": [
        "x = \"Hello\" # Global Variable\n",
        "\n",
        "def demo():\n",
        "  x = \"Bye\" # Local Variable\n",
        "  print(x)\n",
        "\n",
        "demo()\n",
        "print(x)\n",
        "\n",
        "# By using Global keyword\n",
        "\n",
        "print(\"By using Global keyword\")\n",
        "\n",
        "x = \"Hello\" # Global Variable\n",
        "\n",
        "def demo():\n",
        "  global x\n",
        "  x = \"Bye\" # Local Variable\n",
        "  print(x)\n",
        "\n",
        "demo()\n",
        "print(x)"
      ],
      "execution_count": null,
      "outputs": [
        {
          "output_type": "stream",
          "text": [
            "Bye\n",
            "Hello\n",
            "By using Global keyword\n",
            "Bye\n",
            "Bye\n"
          ],
          "name": "stdout"
        }
      ]
    },
    {
      "cell_type": "code",
      "metadata": {
        "colab": {
          "base_uri": "https://localhost:8080/"
        },
        "id": "2n_720tnwWv2",
        "outputId": "20137a41-3da8-40ee-d708-6d621dffb31f"
      },
      "source": [
        "a = 1.1 + 2.2\n",
        "\n",
        "print(a==3.3)"
      ],
      "execution_count": null,
      "outputs": [
        {
          "output_type": "stream",
          "text": [
            "False\n"
          ],
          "name": "stdout"
        }
      ]
    },
    {
      "cell_type": "code",
      "metadata": {
        "colab": {
          "base_uri": "https://localhost:8080/"
        },
        "id": "4rK5oWsZw2qQ",
        "outputId": "431d73ba-faf5-4b3e-f38d-743411b25586"
      },
      "source": [
        "t = -10\n",
        "\n",
        "a = 1.1 + 2.2\n",
        "\n",
        "abs(a - 3.3) < t\n"
      ],
      "execution_count": null,
      "outputs": [
        {
          "output_type": "execute_result",
          "data": {
            "text/plain": [
              "False"
            ]
          },
          "metadata": {
            "tags": []
          },
          "execution_count": 4
        }
      ]
    },
    {
      "cell_type": "markdown",
      "metadata": {
        "id": "-4OXUdzUQla4"
      },
      "source": [
        "# **Operands and Expression**\n",
        "\n",
        "a = 10\n",
        "b = 20\n",
        "\n",
        "a+b\n",
        "\n",
        "In this case, the  + operator add the oprends a and b together.\n",
        "\n",
        "A sequence of operands and operators like a+b+5 is called an expression."
      ]
    },
    {
      "cell_type": "markdown",
      "metadata": {
        "id": "Uin_6g2bRdHv"
      },
      "source": [
        "# **Arithmetic Operator**"
      ]
    },
    {
      "cell_type": "code",
      "metadata": {
        "colab": {
          "base_uri": "https://localhost:8080/"
        },
        "id": "PPZW-wokRYi-",
        "outputId": "2751545d-47c1-4be5-c41e-efa4a3f56d59"
      },
      "source": [
        "#  9 Arithmetic Operators\n",
        "\n",
        "a = 10\n",
        "b = 20\n",
        "\n",
        "print(\"Unary Positive\", +a) # Unary Positive\n",
        "\n",
        "print(\"Unary Negation\", -a) # Unary Negation\n",
        "\n",
        "print(\"Addition\", a+b) # Addition\n",
        "\n",
        "print(\"Subtraction\", a-b) # Subtraction\n",
        "\n",
        "print(\"Multiplication\", a*b) # Multiplication\n",
        "\n",
        "print(\"Division\", a/b) # Division\n",
        "\n",
        "print(\"Module\", a%b) # Module\n",
        "\n",
        "print(\"Floor Division\", a//b) # Floor Division\n",
        "\n",
        "print(\"Exponetiation\", a**b) # Exponetiation\n"
      ],
      "execution_count": null,
      "outputs": [
        {
          "output_type": "stream",
          "text": [
            "Unary Positive 10\n",
            "Unary Negation -10\n",
            "Addition 30\n",
            "Subtraction -10\n",
            "Multiplication 200\n",
            "Division 0.5\n",
            "Module 10\n",
            "Floor Division 0\n",
            "Exponetiation 100000000000000000000\n"
          ],
          "name": "stdout"
        }
      ]
    },
    {
      "cell_type": "markdown",
      "metadata": {
        "id": "9WYgNFkWT1Qi"
      },
      "source": [
        "#**Comparison Operator**"
      ]
    },
    {
      "cell_type": "code",
      "metadata": {
        "colab": {
          "base_uri": "https://localhost:8080/"
        },
        "id": "fmjDarN1T7WR",
        "outputId": "28ca2623-cbb7-4e7b-cf81-0682ad8fd9cb"
      },
      "source": [
        "# Comparison Operator\n",
        "\n",
        "a = 10\n",
        "b = 20\n",
        "\n",
        "print(\"Equal to: \", a==b) # Equal to\n",
        "\n",
        "print(\"Not equal to: \", a!=b) # Not equal to\n",
        "\n",
        "print(\"Greater than:\", a>b) # Greater than\n",
        "\n",
        "print(\"Greater than equal to:\", a>=b) # Greater than equal to\n",
        "\n",
        "print(\"less than:\", a<b) # less than\n",
        "\n",
        "print(\"less than equal to:\", a<=b) # less than equal to\n",
        "\n"
      ],
      "execution_count": null,
      "outputs": [
        {
          "output_type": "stream",
          "text": [
            "Equal to:  False\n",
            "Not equal to:  True\n",
            "Greater than: False\n",
            "Greater than equal to: False\n",
            "less than: True\n",
            "less than equal to: True\n"
          ],
          "name": "stdout"
        }
      ]
    },
    {
      "cell_type": "markdown",
      "metadata": {
        "id": "g57NWpk0VWQU"
      },
      "source": [
        "# **Equality comparison on floating point values**\n",
        "\n",
        "The value stored internally for a float object may not be precisely what you’d think it would be.\n",
        "\n",
        "For that reason, it is poor practice to compare floating-point values for exact equality."
      ]
    },
    {
      "cell_type": "code",
      "metadata": {
        "colab": {
          "base_uri": "https://localhost:8080/"
        },
        "id": "cb_QdRbWVdny",
        "outputId": "40129f76-bf2e-4539-d87f-c053f6e2ed06"
      },
      "source": [
        "x = 1.1 + 2.2\n",
        "\n",
        "print (x == 3.3)"
      ],
      "execution_count": null,
      "outputs": [
        {
          "output_type": "stream",
          "text": [
            "False\n"
          ],
          "name": "stdout"
        }
      ]
    },
    {
      "cell_type": "markdown",
      "metadata": {
        "id": "AVFBQZbRWAO1"
      },
      "source": [
        "The internal representations of the addition operands are not exactly equal to 1.1 and 2.2, so you cannot rely on x to compare exactly to 3.3.\n",
        "\n",
        "The preferred way to determine whether two floating-point values are “equal” is to compute whether they are close to one another, given some tolerance."
      ]
    },
    {
      "cell_type": "code",
      "metadata": {
        "colab": {
          "base_uri": "https://localhost:8080/"
        },
        "id": "ee3yyXpKWEIy",
        "outputId": "8c802914-9979-40eb-f17e-c11ca806832c"
      },
      "source": [
        "tolerance = 0.00001 # give any name to value\n",
        "x = 1.1 + 2.2\n",
        "abs(x - 3.3) < tolerance"
      ],
      "execution_count": null,
      "outputs": [
        {
          "output_type": "execute_result",
          "data": {
            "text/plain": [
              "True"
            ]
          },
          "metadata": {
            "tags": []
          },
          "execution_count": 8
        }
      ]
    },
    {
      "cell_type": "markdown",
      "metadata": {
        "id": "6TLYbNGqWTTr"
      },
      "source": [
        "# **Logical Operator**\n",
        "\n",
        "1.   Logical expression involving boolean operands\n",
        "2.   Evalution of non-boolean value in boolean context\n",
        "3.   Logical Expressions Involving Non-Boolean Operands\n",
        "4.   Compound Logical Expressions and Short-Circuit Evaluation\n",
        "5.   Idioms That Exploit Short-Circuit Evaluation\n",
        "\n",
        "          a = 3\n",
        "          b = 1\n",
        "          print((b / a) > 0) # Avoiding an Exception\n",
        "\n",
        "          a = 0\n",
        "          b = 1\n",
        "          (b / a) > 0 # Exception catch\n",
        "\n",
        "          a = 0\n",
        "          b = 1\n",
        "          a != 0 and (b / a) > 0  # You can avoid an error with an expression like this\n",
        "\n",
        "\n",
        "*   Selecting a Default Value\n",
        "     \n",
        "          string = 'foo bar'\n",
        "          s = string or '<default_value>'\n",
        "          print(s) # foo bar\n",
        "\n",
        "          string = ''\n",
        "          s = string or '<default_value>'\n",
        "          print(s) # <default_value>  \n",
        "\n",
        "\n",
        "\n",
        "6.   Chained Comparisons\n",
        "\n",
        "          x < y <= z\n",
        "          x < y and y <= z\n",
        "\n",
        "    They will both evaluate to the same Boolean value. The subtle difference between the two is that in the chained comparison x < y <= z, y is evaluated only once. The longer expression x < y and y <= z will cause y to be evaluated twice.\n"
      ]
    },
    {
      "cell_type": "markdown",
      "metadata": {
        "id": "fczBTQupW9eN"
      },
      "source": [
        "1. Logical expression involving boolean operands"
      ]
    },
    {
      "cell_type": "code",
      "metadata": {
        "colab": {
          "base_uri": "https://localhost:8080/"
        },
        "id": "gBWsL4q2XL9F",
        "outputId": "d9227e47-6a4f-49ce-dc0c-c43f2c43819c"
      },
      "source": [
        "a = 10\n",
        "b = 20\n",
        "c = 30\n",
        "d = 40\n",
        "\n",
        "# 1) not\n",
        "\n",
        "print(\"not operator:\", not a > 20) # execute a > 20 then not it\n",
        "\n",
        "# 2) or\n",
        "\n",
        "print(\"or operator:\", a>b or c>d)\n",
        "\n",
        "# 3) and\n",
        "\n",
        "print(\"and operator:\", a<b and c<d)\n",
        "\n"
      ],
      "execution_count": null,
      "outputs": [
        {
          "output_type": "stream",
          "text": [
            "not operator: True\n",
            "or operator: False\n",
            "and operator True\n"
          ],
          "name": "stdout"
        }
      ]
    },
    {
      "cell_type": "markdown",
      "metadata": {
        "id": "QjQG2bnvZBAi"
      },
      "source": [
        "2. Evalution of non-boolean value in boolean context\n",
        "\n",
        "      You can determine the “truthiness” of an object or expression with the   built-in bool() function. bool() returns True if its argument is truthy and False if it is falsy.\n",
        "\n"
      ]
    },
    {
      "cell_type": "code",
      "metadata": {
        "colab": {
          "base_uri": "https://localhost:8080/"
        },
        "id": "w6fGW5sFZGzc",
        "outputId": "b2ca5310-1581-46b7-d809-22ce5a761674"
      },
      "source": [
        "'''\n",
        "1) Numeric Value\n",
        "\n",
        "A zero value is false.\n",
        "A non-zero value is true.\n",
        "'''\n",
        "\n",
        "print(\"1) Numeric Value\\n\")\n",
        "\n",
        "print(bool(0),bool(0.0),bool(0.0+0j))\n",
        "\n",
        "print(bool(-3),bool(4.4),bool(1.1+4j),\"\\n\")\n",
        "\n",
        "\n",
        "'''\n",
        "2) String\n",
        "\n",
        "An empty string is false.\n",
        "A non-empty string is true.\n",
        "'''\n",
        "\n",
        "print(\"2) String\\n\")\n",
        "\n",
        "print(bool(''), bool(\"\"), bool(\"\"\"\"\"\"))\n",
        "\n",
        "\n",
        "print(bool('foo'), bool(\" \"), bool(''' '''),\"\\n\")\n",
        "\n",
        "'''\n",
        "3) Built-In Composite Data Object\n",
        "Python provides built-in composite data types called list, tuple, dict, and set.\n",
        "These are “container” types that contain other objects.\n",
        "An object of one of these types is considered false if it is empty and true if it is non-empty.\n",
        "'''\n",
        "\n",
        "print(\"3) Built-In Composite Data Object\\n\")\n",
        "\n",
        "print(type([]))\n",
        "\n",
        "print(bool([]))\n",
        "\n",
        "\n",
        "print(type([1, 2, 3]))\n",
        "\n",
        "print(bool([1, 2, 3]),\"\\n\")\n",
        "\n",
        "# None Keyword\n",
        "\n",
        "print(\"None keyword:\", bool(None))\n"
      ],
      "execution_count": null,
      "outputs": [
        {
          "output_type": "stream",
          "text": [
            "1) Numeric Value\n",
            "\n",
            "False False False\n",
            "True True True \n",
            "\n",
            "2) String\n",
            "\n",
            "False False False\n",
            "True True True \n",
            "\n",
            "3) Built-In Composite Data Object\n",
            "\n",
            "<class 'list'>\n",
            "False\n",
            "<class 'list'>\n",
            "True \n",
            "\n",
            "None keyword: False\n"
          ],
          "name": "stdout"
        }
      ]
    },
    {
      "cell_type": "markdown",
      "metadata": {
        "id": "hpOnZpskg99K"
      },
      "source": [
        "3.   Logical Expressions Involving Non-Boolean Operands\n",
        "\n",
        "  1.   “not” and Non-Boolean Operands             \n",
        "   ![Not_boolean.PNG](data:image/png;base64,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)\n",
        "\n",
        "  2.   “or” and Non-Boolean Operands\n",
        "  \n",
        "        ![or_boolean.PNG](data:image/png;base64,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)\n",
        "  3.   “and” and Non-Boolean Operands\n",
        "       \n",
        "       ![and_boolean.PNG](data:image/png;base64,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)\n",
        "\n"
      ]
    },
    {
      "cell_type": "code",
      "metadata": {
        "colab": {
          "base_uri": "https://localhost:8080/"
        },
        "id": "rnJma7iHhIbA",
        "outputId": "5055431b-d65e-446e-eaec-e8ecca245153"
      },
      "source": [
        "# 1) “not” and Non-Boolean Operands\n",
        "\n",
        "x = 3\n",
        "bool(x)\n",
        "\n",
        "print(not x)\n",
        "\n",
        "\n",
        "x = 0.0\n",
        "bool(x)\n",
        "\n",
        "print(not x)\n",
        "\n",
        "\n",
        "# 2) “or” and Non-Boolean Operands\n",
        "\n",
        "x = 3\n",
        "y = 4\n",
        "print(x or y)\n",
        "\n",
        "\n",
        "x = 0.0\n",
        "y = 4.4\n",
        "print(x or y)\n",
        "\n",
        "\n",
        "# 3) “and” and Non-Boolean Operands\n",
        "\n",
        "x = 3\n",
        "y = 4\n",
        "print(x and y)\n",
        "\n",
        "\n",
        "x = 0.0\n",
        "y = 4.4\n",
        "print(x and y)"
      ],
      "execution_count": null,
      "outputs": [
        {
          "output_type": "stream",
          "text": [
            "False\n",
            "True\n",
            "3\n",
            "4.4\n",
            "4\n",
            "0.0\n"
          ],
          "name": "stdout"
        }
      ]
    },
    {
      "cell_type": "markdown",
      "metadata": {
        "id": "EfCEM_TwnIdh"
      },
      "source": [
        "# **Bitwise Operator**\n",
        "\n",
        "* bitwise AND\n",
        "* bitwise OR\n",
        "* bitwise negation\n",
        "* bitwise XOR\n",
        "* Shift right n places\n",
        "* Shift left n places"
      ]
    },
    {
      "cell_type": "markdown",
      "metadata": {
        "id": "4c5Em0N7oGOA"
      },
      "source": [
        "# **Identity Operator**\n",
        "\n",
        "Python provides two operators, is and is not, that determine whether the given operands have the same identity—that is, refer to the same object. This is not the same thing as equality, which means the two operands refer to objects that contain the same data but are not necessarily the same object."
      ]
    },
    {
      "cell_type": "code",
      "metadata": {
        "colab": {
          "base_uri": "https://localhost:8080/"
        },
        "id": "8jOP2csQocHo",
        "outputId": "7b5ade48-06bc-41f1-ac03-3f3ec74f5806"
      },
      "source": [
        "x = 1001\n",
        "y = 1000 + 1\n",
        "print(x, y)\n",
        "\n",
        "\n",
        "print(x == y)\n",
        "\n",
        "print(x is y)"
      ],
      "execution_count": null,
      "outputs": [
        {
          "output_type": "stream",
          "text": [
            "1001 1001\n",
            "True\n",
            "False\n"
          ],
          "name": "stdout"
        }
      ]
    },
    {
      "cell_type": "code",
      "metadata": {
        "colab": {
          "base_uri": "https://localhost:8080/"
        },
        "id": "IpN3fIK_o1fb",
        "outputId": "0133d498-03ca-41bf-c68d-0efe03807747"
      },
      "source": [
        "a = 'I am a string'\n",
        "b = a\n",
        "print(id(a))\n",
        "\n",
        "print(id(b))\n",
        "\n",
        "\n",
        "print(a is b)\n",
        "\n",
        "print(a == b)"
      ],
      "execution_count": null,
      "outputs": [
        {
          "output_type": "stream",
          "text": [
            "139909225373872\n",
            "139909225373872\n",
            "True\n",
            "True\n"
          ],
          "name": "stdout"
        }
      ]
    },
    {
      "cell_type": "code",
      "metadata": {
        "colab": {
          "base_uri": "https://localhost:8080/"
        },
        "id": "UDxGpv9rpDVI",
        "outputId": "b744c028-75d9-42ea-9fa6-73ca526bc7f1"
      },
      "source": [
        "x = 10\n",
        "y = 20\n",
        "\n",
        "print(x is not y)"
      ],
      "execution_count": null,
      "outputs": [
        {
          "output_type": "stream",
          "text": [
            "True\n"
          ],
          "name": "stdout"
        }
      ]
    },
    {
      "cell_type": "markdown",
      "metadata": {
        "id": "Bmez9G0-pldK"
      },
      "source": [
        "# **Operator Precedence**\n",
        "\n",
        "![Operator_Precedence.PNG](data:image/png;base64,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)"
      ]
    },
    {
      "cell_type": "markdown",
      "metadata": {
        "id": "guWr9ffYqNWV"
      },
      "source": [
        "# **Augmented Assignment Operators**\n",
        "\n",
        "You have seen that a single equal sign (=) is used to assign a value to a variable. It is, of course, perfectly viable for the value to the right of the assignment to be an expression containing other variables"
      ]
    },
    {
      "cell_type": "code",
      "metadata": {
        "id": "R5vS1QoqqZy-"
      },
      "source": [
        "a = 10\n",
        "a = a + 5\n",
        "print(a)\n",
        "\n",
        "\n",
        "b = 20\n",
        "b = b * 3\n",
        "print(b)"
      ],
      "execution_count": null,
      "outputs": []
    },
    {
      "cell_type": "code",
      "metadata": {
        "id": "BHFmbfKyqn0F"
      },
      "source": [
        "# this sort of assignment only makes sense if the variable in question has already previously been assigned a value\n",
        "\n",
        "z = z / 12 # Error"
      ],
      "execution_count": null,
      "outputs": []
    },
    {
      "cell_type": "markdown",
      "metadata": {
        "id": "lM4Ji8LUrDWG"
      },
      "source": [
        "![Augmented_Assignment.PNG](data:image/png;base64,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)"
      ]
    },
    {
      "cell_type": "markdown",
      "metadata": {
        "id": "Mg6Jpi6EOD8o"
      },
      "source": [
        "# **Conditional Statement**\n",
        "\n",
        "      if _______ :\n",
        "        print(\" \");\n",
        "\n",
        "Note: Python relies on indentation (whitespace at the beingning of a line) to define scope in the code. Other programming language often use curly brackets for this purpose.\n",
        "\n",
        "    \n",
        "\n"
      ]
    },
    {
      "cell_type": "code",
      "metadata": {
        "id": "nqayQyBoPwCa"
      },
      "source": [
        "if a>b :\n",
        "print(\"\") # You will get an error"
      ],
      "execution_count": null,
      "outputs": []
    },
    {
      "cell_type": "markdown",
      "metadata": {
        "id": "qao_DA7QQDEA"
      },
      "source": [
        "The **elif** keyword is pythons way of saying \"if the previous conditions were not true, then try this condition\"."
      ]
    },
    {
      "cell_type": "code",
      "metadata": {
        "colab": {
          "base_uri": "https://localhost:8080/"
        },
        "id": "lwzkrGnAQORk",
        "outputId": "e6eb4868-974c-4a96-9e74-19600eaafad6"
      },
      "source": [
        "a = 10\n",
        "b = 20\n",
        "\n",
        "if b > a:\n",
        "  print(\"b is greater than a\")\n",
        "elif a == b:\n",
        "  print(\"a and b are equal\")"
      ],
      "execution_count": null,
      "outputs": [
        {
          "output_type": "stream",
          "text": [
            "b is greater than a\n"
          ],
          "name": "stdout"
        }
      ]
    },
    {
      "cell_type": "markdown",
      "metadata": {
        "id": "XHfNYeIfSH9S"
      },
      "source": [
        "The **else** keyword catches anything which isn't caught by the preceding conditions."
      ]
    },
    {
      "cell_type": "code",
      "metadata": {
        "id": "jNQGgwm8SfFO"
      },
      "source": [
        "a = 100\n",
        "b = 33\n",
        "\n",
        "if b > a:\n",
        "  print(\"b is greater than a\")\n",
        "elif a == b:\n",
        "  print(\"a and b are equal\")\n",
        "else:\n",
        "  print(\"a is greater than b\")"
      ],
      "execution_count": null,
      "outputs": []
    },
    {
      "cell_type": "markdown",
      "metadata": {
        "id": "XZ-79Ka5T5uv"
      },
      "source": [
        "You can also have an **else without the elif**"
      ]
    },
    {
      "cell_type": "code",
      "metadata": {
        "colab": {
          "base_uri": "https://localhost:8080/"
        },
        "id": "k6oKc3CCT72W",
        "outputId": "264a3922-912b-45fe-b95c-cfb4b4c2d8b5"
      },
      "source": [
        "a = 100\n",
        "b = 20\n",
        "\n",
        "if b > a:\n",
        "  print(\"b is greater than a\")\n",
        "else:\n",
        "  print(\"b is not greater than a\")"
      ],
      "execution_count": null,
      "outputs": [
        {
          "output_type": "stream",
          "text": [
            "b is not greater than a\n"
          ],
          "name": "stdout"
        }
      ]
    },
    {
      "cell_type": "markdown",
      "metadata": {
        "id": "G4LEzf1SUJrO"
      },
      "source": [
        "**Short Hand If**\n",
        "\n",
        "If you have only one statement to execute, you can put it on the same line as the if statement."
      ]
    },
    {
      "cell_type": "code",
      "metadata": {
        "id": "KhNWHsm-UOq3"
      },
      "source": [
        "if a > b: print(\"a is greater than b\")"
      ],
      "execution_count": null,
      "outputs": []
    },
    {
      "cell_type": "markdown",
      "metadata": {
        "id": "fDF3XOpZUam0"
      },
      "source": [
        "**Short Hand If ... Else**\n",
        "\n",
        "If you have only one statement to execute, one for if, and one for else, you can put it all on the same line"
      ]
    },
    {
      "cell_type": "code",
      "metadata": {
        "id": "meFta3heUjFU"
      },
      "source": [
        "a = 2\n",
        "b = 100\n",
        "print(\"A\") if a > b else print(\"B\")"
      ],
      "execution_count": null,
      "outputs": []
    },
    {
      "cell_type": "markdown",
      "metadata": {
        "id": "aMQcLKl-U2n9"
      },
      "source": [
        "This technique is known as **Ternary Operators, or Conditional Expressions.**"
      ]
    },
    {
      "cell_type": "markdown",
      "metadata": {
        "id": "NL9L_SKSVACs"
      },
      "source": [
        "You can also have **multiple else** statements on the same line"
      ]
    },
    {
      "cell_type": "code",
      "metadata": {
        "colab": {
          "base_uri": "https://localhost:8080/"
        },
        "id": "b5qozctBVGje",
        "outputId": "1c182fe6-61f7-4a25-9065-104a7b245406"
      },
      "source": [
        "a = 10\n",
        "b = 10\n",
        "print(\"A\") if a > b else print(\"Equal\") if a == b else print(\"B\")"
      ],
      "execution_count": null,
      "outputs": [
        {
          "output_type": "stream",
          "text": [
            "=\n"
          ],
          "name": "stdout"
        }
      ]
    },
    {
      "cell_type": "markdown",
      "metadata": {
        "id": "9zy7w2MiVZWj"
      },
      "source": [
        "The **or** keyword is a logical operator, and is used to combine conditional statements\n",
        "\n",
        "**And**\n",
        "The and keyword is a logical operator, and is used to combine conditional statements"
      ]
    },
    {
      "cell_type": "code",
      "metadata": {
        "colab": {
          "base_uri": "https://localhost:8080/"
        },
        "id": "pPY-_SHBVpAn",
        "outputId": "1827aa01-7c61-4114-e489-26a73e84f955"
      },
      "source": [
        "a = 10\n",
        "b = 20\n",
        "c = 30\n",
        "d = 40\n",
        "\n",
        "# 1) not\n",
        "if not a > 20:\n",
        "    print(\"not operator: opposite the ans\") # execute a > 20 then not it\n",
        "\n",
        "# 2) or\n",
        "if a<b or c>d:\n",
        "    print(\"or operator: at least one\")\n",
        "\n",
        "# 3) and\n",
        "if a<b and c<d:\n",
        "    print(\"and operator:both true\")"
      ],
      "execution_count": null,
      "outputs": [
        {
          "output_type": "stream",
          "text": [
            "not operator: opposite the ans\n",
            "or operator: at least one\n",
            "and operator:both true\n"
          ],
          "name": "stdout"
        }
      ]
    },
    {
      "cell_type": "markdown",
      "metadata": {
        "id": "d1KDp-dNlyx6"
      },
      "source": [
        "**Nested If**\n",
        "\n",
        "You can have if statements inside if statements, this is called nested if statements"
      ]
    },
    {
      "cell_type": "code",
      "metadata": {
        "colab": {
          "base_uri": "https://localhost:8080/"
        },
        "id": "wGZL2MRzl2Ah",
        "outputId": "37515aac-5eb4-461b-c01b-fb05301c86f2"
      },
      "source": [
        "x = 50\n",
        "\n",
        "if x > 10:\n",
        "  print(\"Above ten,\")\n",
        "  if x > 200:\n",
        "    print(\"and also above 20!\")\n",
        "  else:\n",
        "    print(\"but not above 20.\")"
      ],
      "execution_count": null,
      "outputs": [
        {
          "output_type": "stream",
          "text": [
            "Above ten,\n",
            "but not above 20.\n"
          ],
          "name": "stdout"
        }
      ]
    },
    {
      "cell_type": "markdown",
      "metadata": {
        "id": "MxjeDvbvmNvt"
      },
      "source": [
        "**Pass statement**\n",
        "\n",
        "if statement cannot be empty, but if you for some reason have an if statement with no content put in the pass statement to avoid getting an error"
      ]
    },
    {
      "cell_type": "code",
      "metadata": {
        "id": "lj5WFsdcmqJ6"
      },
      "source": [
        "for x in [0, 1, 2]:\n",
        "  pass\n",
        "\n",
        "\n",
        "def myfunction():\n",
        "  pass\n",
        "\n",
        "\n",
        "class Person:\n",
        "  pass\n",
        "\n",
        "a = 33\n",
        "b = 200\n",
        "\n",
        "if b > a:\n",
        "  pass"
      ],
      "execution_count": null,
      "outputs": []
    },
    {
      "cell_type": "markdown",
      "metadata": {
        "id": "b4txgOjqmqrB"
      },
      "source": [
        "**Break statement**\n",
        "\n",
        "The break statement terminate the loop contaning it. Control of the program flow to the statement immediately after the body of the loop."
      ]
    },
    {
      "cell_type": "code",
      "metadata": {
        "colab": {
          "base_uri": "https://localhost:8080/"
        },
        "id": "H0cPSCa7nEZu",
        "outputId": "2127bc25-d4d8-481b-8ddd-81e577edce04"
      },
      "source": [
        "# Program to show the use of break statement inside loops\n",
        "\n",
        "for val in \"string\":\n",
        "    if val == \"i\":\n",
        "        break\n",
        "    print(val)\n",
        "\n",
        "print(\"The end\")"
      ],
      "execution_count": null,
      "outputs": [
        {
          "output_type": "stream",
          "text": [
            "s\n",
            "t\n",
            "r\n",
            "The end\n"
          ],
          "name": "stdout"
        }
      ]
    },
    {
      "cell_type": "markdown",
      "metadata": {
        "id": "nvpRxW5snE-X"
      },
      "source": [
        "**Continue statement**\n",
        "\n",
        "continue statement is used to skip the rest of the code inside a loop for the current interation only. Loop does not terminates but continues with the next iteration"
      ]
    },
    {
      "cell_type": "code",
      "metadata": {
        "colab": {
          "base_uri": "https://localhost:8080/"
        },
        "id": "Bpko7gVJoNGi",
        "outputId": "7873bf21-4e4e-4f92-cb78-bcc27911e4c3"
      },
      "source": [
        "# Program to show the use of continue statement inside loops\n",
        "\n",
        "for val in \"string\":\n",
        "    if val == \"i\":\n",
        "        continue\n",
        "    print(val)\n",
        "\n",
        "print(\"The end\")"
      ],
      "execution_count": null,
      "outputs": [
        {
          "output_type": "stream",
          "text": [
            "s\n",
            "t\n",
            "r\n",
            "n\n",
            "g\n",
            "The end\n"
          ],
          "name": "stdout"
        }
      ]
    },
    {
      "cell_type": "markdown",
      "metadata": {
        "id": "DJlEmuRgoa5D"
      },
      "source": [
        "# **Loops**\n",
        "\n",
        "Python has two primitive loop commands:\n",
        "\n",
        "1.   while loops\n",
        "2.   for loops\n",
        "\n"
      ]
    },
    {
      "cell_type": "markdown",
      "metadata": {
        "id": "n0WYXYbBo7JV"
      },
      "source": [
        "**1.   while loops**\n",
        "\n",
        "Repeat a statement or group of statement while a given condition is TRUE. It test the condition before executing before executing the loop body."
      ]
    },
    {
      "cell_type": "code",
      "metadata": {
        "id": "MMhOCoYZpjAc"
      },
      "source": [
        "i = 1\n",
        "while i < 6:\n",
        "  print(i)\n",
        "  i += 1"
      ],
      "execution_count": null,
      "outputs": []
    },
    {
      "cell_type": "code",
      "metadata": {
        "id": "tyzuDB95p4Ul"
      },
      "source": [
        "# break statement\n",
        "\n",
        "i = 1\n",
        "while i < 6:\n",
        "  print(i)\n",
        "  if i == 3:\n",
        "    break\n",
        "  i += 1\n",
        ""
      ],
      "execution_count": null,
      "outputs": []
    },
    {
      "cell_type": "code",
      "metadata": {
        "id": "VMkuURQTtUaN"
      },
      "source": [
        "# continue statement\n",
        "\n",
        "i = 0\n",
        "while i < 6:\n",
        "  i += 1\n",
        "  if i == 3:\n",
        "    continue\n",
        "  print(i)\n",
        ""
      ],
      "execution_count": null,
      "outputs": []
    },
    {
      "cell_type": "markdown",
      "metadata": {
        "id": "wKxQR9GxuKrL"
      },
      "source": [
        "**The else Statement**\n",
        "\n",
        "With the else statement we can run a block of code once when the condition no longer is true"
      ]
    },
    {
      "cell_type": "code",
      "metadata": {
        "colab": {
          "base_uri": "https://localhost:8080/"
        },
        "id": "crKQGsXpuf1R",
        "outputId": "c0cb3505-1aa6-4439-ee39-236c1fa95213"
      },
      "source": [
        "i = 1\n",
        "while i < 5:\n",
        "  print(i)\n",
        "  i += 1\n",
        "else:\n",
        "  print(\"i is no longer less than 5\")"
      ],
      "execution_count": null,
      "outputs": [
        {
          "output_type": "stream",
          "text": [
            "1\n",
            "2\n",
            "3\n",
            "4\n",
            "i is no longer less than 5\n"
          ],
          "name": "stdout"
        }
      ]
    },
    {
      "cell_type": "markdown",
      "metadata": {
        "id": "vDHrzg1ww3kf"
      },
      "source": [
        "**2.   for loops**\n",
        "\n",
        "A for loop is used for iterating over a sequence (that is either a list, a tuple, a dictionary, a set, or a string).\n",
        "\n",
        "This is less like the for keyword in other programming languages, and works more like an iterator method as found in other object-orientated programming languages.\n",
        "\n",
        "With the for loop we can execute a set of statements, once for each item in a list, tuple, set etc.\n"
      ]
    },
    {
      "cell_type": "code",
      "metadata": {
        "colab": {
          "base_uri": "https://localhost:8080/"
        },
        "id": "iBMQlJ8WxcZ3",
        "outputId": "4d853142-e890-4e3a-8cde-d9cbf8e89ed1"
      },
      "source": [
        "laptop = [\"HP\", \"LENOVO\", \"DELL\"]\n",
        "for x in laptop:\n",
        "  print(x)"
      ],
      "execution_count": null,
      "outputs": [
        {
          "output_type": "stream",
          "text": [
            "HP\n",
            "LENOVO\n",
            "DELL\n"
          ],
          "name": "stdout"
        }
      ]
    },
    {
      "cell_type": "markdown",
      "metadata": {
        "id": "a6jOVDDxyC2X"
      },
      "source": [
        "**Looping Through a String**\n",
        "\n"
      ]
    },
    {
      "cell_type": "code",
      "metadata": {
        "colab": {
          "base_uri": "https://localhost:8080/"
        },
        "id": "3pD-Sk5vyIjs",
        "outputId": "8abae292-e532-4b8b-cb68-ab29e2190845"
      },
      "source": [
        "for x in \"shweta\":\n",
        "  print(x)"
      ],
      "execution_count": null,
      "outputs": [
        {
          "output_type": "stream",
          "text": [
            "s\n",
            "h\n",
            "w\n",
            "e\n",
            "t\n",
            "a\n"
          ],
          "name": "stdout"
        }
      ]
    },
    {
      "cell_type": "code",
      "metadata": {
        "colab": {
          "base_uri": "https://localhost:8080/"
        },
        "id": "NUgHkDweyXTk",
        "outputId": "177138f5-a2e8-4321-f957-52318029a566"
      },
      "source": [
        "# break statement\n",
        "\n",
        "fruits = [\"apple\", \"banana\", \"cherry\"]\n",
        "for x in fruits:\n",
        "  print(x)\n",
        "  if x == \"banana\":\n",
        "    break"
      ],
      "execution_count": null,
      "outputs": [
        {
          "output_type": "stream",
          "text": [
            "apple\n",
            "banana\n"
          ],
          "name": "stdout"
        }
      ]
    },
    {
      "cell_type": "code",
      "metadata": {
        "colab": {
          "base_uri": "https://localhost:8080/"
        },
        "id": "sYwOciuJyb0T",
        "outputId": "1c18d5da-6a14-4e48-8850-d6321c06948e"
      },
      "source": [
        "# break statement\n",
        "\n",
        "fruits = [\"apple\", \"banana\", \"cherry\"]\n",
        "for x in fruits:\n",
        "  if x == \"banana\":\n",
        "    break\n",
        "  print(x)"
      ],
      "execution_count": null,
      "outputs": [
        {
          "output_type": "stream",
          "text": [
            "apple\n"
          ],
          "name": "stdout"
        }
      ]
    },
    {
      "cell_type": "code",
      "metadata": {
        "id": "CSkx85EPys8r"
      },
      "source": [
        "# continue statement\n",
        "\n",
        "fruits = [\"apple\", \"banana\", \"cherry\"]\n",
        "for x in fruits:\n",
        "  if x == \"banana\":\n",
        "    continue\n",
        "  print(x)"
      ],
      "execution_count": null,
      "outputs": []
    },
    {
      "cell_type": "code",
      "metadata": {
        "id": "Jtjv4Obg16F_"
      },
      "source": [
        "# for loops cannot be empty, but if you for some reason have a for loop with no content, put in the pass statement to avoid getting an error.\n",
        "\n",
        "for x in [0, 1, 2]:\n",
        "  pass"
      ],
      "execution_count": null,
      "outputs": []
    },
    {
      "cell_type": "markdown",
      "metadata": {
        "id": "_ZFDQ8JYy-OT"
      },
      "source": [
        "**The range() Function**\n",
        "\n",
        "To loop through a set of code a specified number of times, we can use the range() function,\n",
        "The range() function returns a sequence of numbers, starting from 0 by default, and increments by 1 (by default), and ends at a specified number.\n",
        "\n",
        "**Note:** that range(6) is not the values of 0 to 6, but the values 0 to 5."
      ]
    },
    {
      "cell_type": "markdown",
      "metadata": {
        "id": "en5fGszQzMHS"
      },
      "source": [
        "The range() function defaults to 0 as a starting value, however it is possible to specify the starting value by adding a parameter: range(2, 6), which means values from 2 to 6 (but not including 6):"
      ]
    },
    {
      "cell_type": "code",
      "metadata": {
        "colab": {
          "base_uri": "https://localhost:8080/"
        },
        "id": "9gOcMNp6zO0d",
        "outputId": "8567081a-56ea-46d6-86cd-9c5fe63fccc1"
      },
      "source": [
        "for x in range(2, 6):\n",
        "  print(x)"
      ],
      "execution_count": null,
      "outputs": [
        {
          "output_type": "stream",
          "text": [
            "2\n",
            "3\n",
            "4\n",
            "5\n"
          ],
          "name": "stdout"
        }
      ]
    },
    {
      "cell_type": "markdown",
      "metadata": {
        "id": "sCd0QS_VzSHs"
      },
      "source": [
        "The range() function defaults to increment the sequence by 1, however it is possible to specify the increment value by adding a third parameter: range(2, 30, 3)"
      ]
    },
    {
      "cell_type": "code",
      "metadata": {
        "id": "1RhD43luzaAS"
      },
      "source": [
        "for x in range(2, 30, 3):\n",
        "  print(x)"
      ],
      "execution_count": null,
      "outputs": []
    },
    {
      "cell_type": "markdown",
      "metadata": {
        "id": "ZfNH9gHazooN"
      },
      "source": [
        "**Else in For Loop**\n",
        "\n",
        "The else keyword in a for loop specifies a block of code to be executed when the loop is finished"
      ]
    },
    {
      "cell_type": "code",
      "metadata": {
        "colab": {
          "base_uri": "https://localhost:8080/"
        },
        "id": "NOl1_8QC0CX3",
        "outputId": "ab65d169-24b6-4032-ee07-87ec52c70382"
      },
      "source": [
        "for x in range(6):\n",
        "  print(x)\n",
        "else:\n",
        "  print(\"Finally finished!\")"
      ],
      "execution_count": null,
      "outputs": [
        {
          "output_type": "stream",
          "text": [
            "0\n",
            "1\n",
            "2\n",
            "3\n",
            "4\n",
            "5\n",
            "Finally finished!\n"
          ],
          "name": "stdout"
        }
      ]
    },
    {
      "cell_type": "markdown",
      "metadata": {
        "id": "WGGScQDt0I2T"
      },
      "source": [
        "**Note:** The else block will NOT be executed if the loop is stopped by a break statement."
      ]
    },
    {
      "cell_type": "code",
      "metadata": {
        "colab": {
          "base_uri": "https://localhost:8080/"
        },
        "id": "qZmWL5K20KXP",
        "outputId": "b8795b98-790b-4adc-bc41-854d8dbf73ac"
      },
      "source": [
        "for x in range(6):\n",
        "  if x == 3: break\n",
        "  print(x)\n",
        "else:\n",
        "  print(\"Finally finished!\")"
      ],
      "execution_count": null,
      "outputs": [
        {
          "output_type": "stream",
          "text": [
            "0\n",
            "1\n",
            "2\n"
          ],
          "name": "stdout"
        }
      ]
    },
    {
      "cell_type": "markdown",
      "metadata": {
        "id": "pAZoKvjw0XiO"
      },
      "source": [
        "**Nested Loops**\n",
        "\n",
        "The \"inner loop\" will be executed one time for each iteration of the \"outer loop\""
      ]
    },
    {
      "cell_type": "code",
      "metadata": {
        "colab": {
          "base_uri": "https://localhost:8080/"
        },
        "id": "Om5yAXCo0h4r",
        "outputId": "2e778d26-1e3f-4911-be14-a3b0786de12a"
      },
      "source": [
        "adj = [\"red\", \"big\", \"tasty\"]\n",
        "fruits = [\"apple\", \"banana\", \"cherry\"]\n",
        "\n",
        "for x in adj:\n",
        "  for y in fruits:\n",
        "    print(x, y)"
      ],
      "execution_count": null,
      "outputs": [
        {
          "output_type": "stream",
          "text": [
            "red apple\n",
            "red banana\n",
            "red cherry\n",
            "big apple\n",
            "big banana\n",
            "big cherry\n",
            "tasty apple\n",
            "tasty banana\n",
            "tasty cherry\n"
          ],
          "name": "stdout"
        }
      ]
    },
    {
      "cell_type": "markdown",
      "metadata": {
        "id": "FvWjx39R04-v"
      },
      "source": [
        "# **Command Line Arguments in Python**\n",
        "\n",
        "The arguments that are given after the name of the program in the command line shell of the operating system are known as Command Line Arguments.\n",
        "\n",
        "The three most common are:\n",
        "\n",
        "* Using sys.argv\n",
        "* Using getopt module\n",
        "* Using argparse module"
      ]
    },
    {
      "cell_type": "markdown",
      "metadata": {
        "id": "dtJCmWWq1dfy"
      },
      "source": [
        "**Using sys.argv**\n",
        "\n",
        "The sys module provides functions and variables used to manipulate different parts of the Python runtime environment.\n",
        "\n",
        "It’s main purpose are:\n",
        "\n",
        "* It is a list of command line arguments.\n",
        "* len(sys.argv) provides the number of command line arguments.\n",
        "* sys.argv[0] is the name of the current Python script."
      ]
    },
    {
      "cell_type": "code",
      "metadata": {
        "id": "rvJUh5GY1rpD"
      },
      "source": [
        "# Python program to demonstrate\n",
        "# command line arguments\n",
        "\n",
        "\n",
        "import sys\n",
        "\n",
        "# total arguments\n",
        "n = len(sys.argv)\n",
        "print(\"Total arguments passed:\", n)\n",
        "\n",
        "# Arguments passed\n",
        "print(\"\\nName of Python script:\", sys.argv[0])\n",
        "\n",
        "print(\"\\nArguments passed:\", end = \" \")\n",
        "for i in range(1, n):\n",
        "\tprint(sys.argv[i], end = \" \")\n",
        "\n",
        "# Addition of numbers\n",
        "Sum = 0\n",
        "# Using argparse module\n",
        "for i in range(1, n):\n",
        "\tSum += int(sys.argv[i])\n",
        "\n",
        "print(\"\\n\\nResult:\", Sum)\n"
      ],
      "execution_count": null,
      "outputs": []
    }
  ]
}